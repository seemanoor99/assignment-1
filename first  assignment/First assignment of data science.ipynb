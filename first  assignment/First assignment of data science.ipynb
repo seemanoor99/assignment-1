{
 "cells": [
  {
   "cell_type": "code",
   "execution_count": 1,
   "id": "36da10d0",
   "metadata": {},
   "outputs": [
    {
     "name": "stdout",
     "output_type": "stream",
     "text": [
      "Twinkle,Twinkle,little star\n",
      "\tHow i wonder what you are!\n",
      "\t\tUp above the world so high\n",
      "\t\tLike a diamond in the sky.\n",
      "\tTwinkle,twinkle,little star,\n",
      "\t\tHow i wonder what you are\n"
     ]
    }
   ],
   "source": [
    "print(\"Twinkle,Twinkle,little star\");\n",
    "print(\"\\tHow i wonder what you are!\");\n",
    "print(\"\\t\\tUp above the world so high\");\n",
    "print(\"\\t\\tLike a diamond in the sky.\");\n",
    "print(\"\\tTwinkle,twinkle,little star,\");\n",
    "print(\"\\t\\tHow i wonder what you are\");"
   ]
  },
  {
   "cell_type": "code",
   "execution_count": 2,
   "id": "12fae107",
   "metadata": {},
   "outputs": [
    {
     "name": "stdout",
     "output_type": "stream",
     "text": [
      "Python Version\n",
      "3.8.8 (default, Apr 13 2021, 15:08:03) [MSC v.1916 64 bit (AMD64)]\n"
     ]
    }
   ],
   "source": [
    "import sys\n",
    "print(\"Python Version\");\n",
    "print(sys.version);"
   ]
  },
  {
   "cell_type": "code",
   "execution_count": 3,
   "id": "a2ae2286",
   "metadata": {},
   "outputs": [
    {
     "name": "stdout",
     "output_type": "stream",
     "text": [
      "Current date and time : \n",
      "2022-01-01 11:32:28:\n"
     ]
    }
   ],
   "source": [
    "import datetime\n",
    "now = datetime.datetime.now()\n",
    "print(\"Current date and time : \")\n",
    "print(now.strftime(\"%Y-%m-%d %H:%M:%S:\"))"
   ]
  },
  {
   "cell_type": "code",
   "execution_count": 4,
   "id": "28c58e3e",
   "metadata": {},
   "outputs": [
    {
     "name": "stdout",
     "output_type": "stream",
     "text": [
      "Enter a radius90\n",
      "Area of circle is 25450.2\n"
     ]
    }
   ],
   "source": [
    "r = float(input(\"Enter a radius\"))\n",
    "pi = 3.142\n",
    "A = pi*(r*r)\n",
    "print(\"Area of circle is\"  , A);"
   ]
  },
  {
   "cell_type": "code",
   "execution_count": 6,
   "id": "3ea906b3",
   "metadata": {},
   "outputs": [
    {
     "name": "stdout",
     "output_type": "stream",
     "text": [
      "My First Name : seema\n",
      "My Last Name : noor\n",
      "Hello noor seema\n"
     ]
    }
   ],
   "source": [
    "fname = input(\"My First Name : \");\n",
    "lname = input(\"My Last Name : \");\n",
    "print(\"Hello \" + lname + \" \" + fname);"
   ]
  },
  {
   "cell_type": "code",
   "execution_count": 7,
   "id": "068c2a6f",
   "metadata": {},
   "outputs": [
    {
     "name": "stdout",
     "output_type": "stream",
     "text": [
      "Enter first number : 90\n",
      "Enter second number : 99\n",
      "sum 189\n"
     ]
    }
   ],
   "source": [
    "frist_number = int(input(\"Enter first number : \"));\n",
    "second_number = int(input(\"Enter second number : \"));\n",
    "sum = frist_number+second_number\n",
    "print(\"sum\",sum);"
   ]
  },
  {
   "cell_type": "code",
   "execution_count": null,
   "id": "1fd2e3a8",
   "metadata": {},
   "outputs": [],
   "source": []
  }
 ],
 "metadata": {
  "kernelspec": {
   "display_name": "Python 3",
   "language": "python",
   "name": "python3"
  },
  "language_info": {
   "codemirror_mode": {
    "name": "ipython",
    "version": 3
   },
   "file_extension": ".py",
   "mimetype": "text/x-python",
   "name": "python",
   "nbconvert_exporter": "python",
   "pygments_lexer": "ipython3",
   "version": "3.8.8"
  }
 },
 "nbformat": 4,
 "nbformat_minor": 5
}
